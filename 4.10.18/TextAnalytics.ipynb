{
 "cells": [
  {
   "cell_type": "markdown",
   "metadata": {},
   "source": [
    "# Microsoft Cognitive Services: Text Analysis\n",
    "<a name=\"HOLTop\"></a>\n",
    "\n",
    "\n",
    "\n",
    "Refer to the [API definitions](//go.microsoft.com/fwlink/?LinkID=759346) for technical documentation for the APIs.\n",
    "\n",
    "## Prerequisites\n",
    "\n",
    "You must have a [Cognitive Services API account](https://docs.microsoft.com/azure/cognitive-services/cognitive-services-apis-create-account) with **Text Analytics API**. You can use the **free tier for 5,000 transactions/month** to complete this walkthrough.\n",
    "\n",
    "You must also have the [endpoint and access key](../How-tos/text-analytics-how-to-access-key.md) that was generated for you during sign-up. \n",
    "\n",
    "To continue with this walkthrough, replace `subscription_key` with a valid subscription key that you obtained earlier."
   ]
  },
  {
   "cell_type": "code",
   "execution_count": null,
   "metadata": {},
   "outputs": [],
   "source": [
    "subscription_key = \"YOUR API KEY\"\n",
    "assert subscription_key"
   ]
  },
  {
   "cell_type": "markdown",
   "metadata": {},
   "source": [
    "**THE ENDPOINT:**"
   ]
  },
  {
   "cell_type": "code",
   "execution_count": null,
   "metadata": {},
   "outputs": [],
   "source": [
    "text_analytics_base_url = \"https://westcentralus.api.cognitive.microsoft.com/text/analytics/v2.0/\""
   ]
  },
  {
   "cell_type": "markdown",
   "metadata": {},
   "source": [
    "<a name=\"Detect\"></a>\n",
    "\n",
    "## Detect languages\n",
    "\n",
    "The Language Detection API detects the language of a text document, using the [Detect Language method](https://westus.dev.cognitive.microsoft.com/docs/services/TextAnalytics.V2.0/operations/56f30ceeeda5650db055a3c7). The service endpoint of the language detection API for your region is available via the following URL:"
   ]
  },
  {
   "cell_type": "code",
   "execution_count": null,
   "metadata": {},
   "outputs": [],
   "source": [
    "language_api_url = text_analytics_base_url + \"languages\"\n",
    "print(language_api_url)"
   ]
  },
  {
   "cell_type": "markdown",
   "metadata": {},
   "source": [
    "The payload to the API consists of a list of `documents`, each of which in turn contains an `id` and a `text` attribute. The `text` attribute stores the text to be analyzed. \n",
    "\n",
    "Replace the `documents` dictionary with any other text for language detection. "
   ]
  },
  {
   "cell_type": "code",
   "execution_count": null,
   "metadata": {},
   "outputs": [],
   "source": [
    "documents = { 'documents': [\n",
    "    { 'id': '1', 'text': 'This is a document written in English.' },\n",
    "    { 'id': '2', 'text': 'Este es un document escrito en Español.' },\n",
    "    { 'id': '3', 'text': '这是一个用中文写的文件' },\n",
    "    {'id': '4', 'text': \"**************\"}\n",
    "]}"
   ]
  },
  {
   "cell_type": "markdown",
   "metadata": {},
   "source": [
    "The next few lines of code call out to the language detection API using the `requests` library in Python to determine the language in the documents."
   ]
  },
  {
   "cell_type": "code",
   "execution_count": null,
   "metadata": {},
   "outputs": [],
   "source": [
    "import requests\n",
    "from pprint import pprint\n",
    "headers   = {\"Ocp-Apim-Subscription-Key\": subscription_key}\n",
    "response  = requests.post(language_api_url, headers=headers, json=documents)\n",
    "languages = response.json()\n",
    "pprint(languages)"
   ]
  },
  {
   "cell_type": "markdown",
   "metadata": {},
   "source": [
    "The following lines of code render the JSON data as an HTML table."
   ]
  },
  {
   "cell_type": "code",
   "execution_count": null,
   "metadata": {},
   "outputs": [],
   "source": [
    "from IPython.display import HTML\n",
    "table = []\n",
    "for document in languages[\"documents\"]:\n",
    "    text  = next(filter(lambda d: d[\"id\"] == document[\"id\"], documents[\"documents\"]))[\"text\"]\n",
    "    langs = \", \".join([\"{0}({1})\".format(lang[\"name\"], lang[\"score\"]) for lang in document[\"detectedLanguages\"]])\n",
    "    table.append(\"<tr><td>{0}</td><td>{1}</td>\".format(text, langs))\n",
    "HTML(\"<table><tr><th>Text</th><th>Detected languages(scores)</th></tr>{0}</table>\".format(\"\\n\".join(table)))"
   ]
  },
  {
   "cell_type": "markdown",
   "metadata": {},
   "source": [
    "<a name=\"SentimentAnalysis\"></a>\n",
    "\n",
    "## Sentiment Analysis\n",
    "\n",
    "The Sentiment Analysis API detexts the sentiment of a set of text records, using the [Sentiment method](https://westus.dev.cognitive.microsoft.com/docs/services/TextAnalytics.V2.0/operations/56f30ceeeda5650db055a3c9). The following example scores two documents, one in English and another in Spanish."
   ]
  },
  {
   "cell_type": "code",
   "execution_count": null,
   "metadata": {},
   "outputs": [],
   "source": [
    "sentiment_api_url = text_analytics_base_url + \"sentiment\"\n",
    "print(sentiment_api_url)"
   ]
  },
  {
   "cell_type": "markdown",
   "metadata": {},
   "source": [
    "**Replace the text field with whatever you like!** I'm using quotes from Overheard at UC Berkeley.  As a side note, it might be cool to analyze the overall sentiment of the Facebook group!"
   ]
  },
  {
   "cell_type": "code",
   "execution_count": null,
   "metadata": {},
   "outputs": [],
   "source": [
    "documents = {'documents' : [\n",
    "  {'id': '1', 'language': 'en', 'text': 'Yeah I lied, I always lie, I’m an ASUC Senator'},\n",
    "  {'id': '2', 'language': 'en', 'text': 'In my opinion, Im a really handsome person'},  \n",
    "  {'id': '3', 'language': 'es', 'text': 'Women should be respected, not just because theyre moms, wives, and sisters, not just because were born from one, but because theyre people.'},  \n",
    "  {'id': '4', 'language': 'es', 'text': 'All roads lead to Taco Bell'}\n",
    "]}"
   ]
  },
  {
   "cell_type": "markdown",
   "metadata": {},
   "source": [
    "The sentiment API can now be used to analyze the documents for their sentiments."
   ]
  },
  {
   "cell_type": "code",
   "execution_count": null,
   "metadata": {},
   "outputs": [],
   "source": [
    "headers   = {\"Ocp-Apim-Subscription-Key\": subscription_key}\n",
    "response  = requests.post(sentiment_api_url, headers=headers, json=documents)\n",
    "sentiments = response.json()\n",
    "pprint(sentiments)"
   ]
  },
  {
   "cell_type": "markdown",
   "metadata": {},
   "source": [
    "The sentiment score for a document is between $0$ and $1$, with a higher score indicating a more positive sentiment."
   ]
  },
  {
   "cell_type": "markdown",
   "metadata": {},
   "source": [
    "<a name=\"KeyPhraseExtraction\"></a>\n",
    "\n",
    "## Extract key phrases\n",
    "\n",
    "The Key Phrase Extraction API extracts key-phrases from a text document, using the [Key Phrases method](https://westus.dev.cognitive.microsoft.com/docs/services/TextAnalytics.V2.0/operations/56f30ceeeda5650db055a3c6). This section of the walkthrough extracts key phrases for both English and Spanish documents.\n",
    "\n",
    "**YOUR ENDPOINT:**"
   ]
  },
  {
   "cell_type": "code",
   "execution_count": null,
   "metadata": {},
   "outputs": [],
   "source": [
    "key_phrase_api_url = text_analytics_base_url + \"keyPhrases\"\n",
    "print(key_phrase_api_url)"
   ]
  },
  {
   "cell_type": "markdown",
   "metadata": {},
   "source": [
    "Here is all of the text you have stored in documents:"
   ]
  },
  {
   "cell_type": "code",
   "execution_count": null,
   "metadata": {},
   "outputs": [],
   "source": [
    "pprint(documents)"
   ]
  },
  {
   "cell_type": "code",
   "execution_count": null,
   "metadata": {},
   "outputs": [],
   "source": [
    "headers   = {\"Ocp-Apim-Subscription-Key\": subscription_key}\n",
    "response  = requests.post(key_phrase_api_url, headers=headers, json=documents)\n",
    "key_phrases = response.json()\n",
    "pprint(key_phrases)"
   ]
  },
  {
   "cell_type": "markdown",
   "metadata": {},
   "source": [
    "The JSON object can once again be rendered as an HTML table using the following lines of code:"
   ]
  },
  {
   "cell_type": "code",
   "execution_count": null,
   "metadata": {},
   "outputs": [],
   "source": [
    "from IPython.display import HTML\n",
    "table = []\n",
    "for document in key_phrases[\"documents\"]:\n",
    "    text    = next(filter(lambda d: d[\"id\"] == document[\"id\"], documents[\"documents\"]))[\"text\"]    \n",
    "    phrases = \",\".join(document[\"keyPhrases\"])\n",
    "    table.append(\"<tr><td>{0}</td><td>{1}</td>\".format(text, phrases))\n",
    "HTML(\"<table><tr><th>Text</th><th>Key phrases</th></tr>{0}</table>\".format(\"\\n\".join(table)))"
   ]
  }
 ],
 "metadata": {
  "kernelspec": {
   "display_name": "Python 3",
   "language": "python",
   "name": "python3"
  },
  "language_info": {
   "codemirror_mode": {
    "name": "ipython",
    "version": 3
   },
   "file_extension": ".py",
   "mimetype": "text/x-python",
   "name": "python",
   "nbconvert_exporter": "python",
   "pygments_lexer": "ipython3",
   "version": "3.6.1"
  },
  "ms_docs_meta": {
   "author": "luiscabrer",
   "description": "Get information and code samples to help you quickly get started using the Text Analytics API in Microsoft Cognitive Services on Azure.",
   "documentationcenter": "''",
   "ms.author": "luisca",
   "ms.date": "08/24/2017",
   "ms.service": "cognitive-services",
   "ms.technology": "text-analytics",
   "ms.topic": "article",
   "services": "cognitive-services",
   "title": "Python Quickstart for Azure Cognitive Services, Text Analytics API | Microsoft Docs"
  }
 },
 "nbformat": 4,
 "nbformat_minor": 2
}
