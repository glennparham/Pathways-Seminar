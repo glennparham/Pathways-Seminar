{
 "cells": [
  {
   "cell_type": "markdown",
   "metadata": {
    "author": "jerrykindall",
    "description": "Get information and code samples to help you quickly get started using the Bing Web Search API in Microsoft Cognitive Services on Azure.",
    "documentationcenter": "",
    "ms.author": "v-jerkin",
    "ms.date": "9/18/2017",
    "ms.service": "cognitive-services",
    "ms.technology": "bing-search",
    "ms.topic": "article",
    "services": "cognitive-services",
    "title": "Call and response - Python Quickstart for Azure Cognitive Services, Bing Web Search API | Microsoft Docs"
   },
   "source": [
    "# Call and response: your first Bing Web Search query in Python\n",
    "\n",
    "The Bing Web Search API provides an experience similar to Bing.com/Search by returning search results that Bing determines are relevant to the user's query. The results may include Web pages, images, videos, news, and entities, along with related search queries, spelling corrections, time zones, unit conversion, translations, and calculations. The kinds of results you get are based on their relevance and the tier of the Bing Search APIs to which you subscribe.\n",
    "\n",
    "Refer to the [API reference](https://docs.microsoft.com/en-us/rest/api/cognitiveservices/bing-web-api-v7-reference) for technical details about the APIs.\n",
    "\n",
    "You can run this example as a Jupyter notebook on [MyBinder](https://mybinder.org) by clicking on the launch Binder badge: \n",
    "\n",
    "[![Binder](https://mybinder.org/badge.svg)](https://mybinder.org/v2/gh/Microsoft/cognitive-services-notebooks/master?filepath=BingWebSearchAPI.ipynb)\n",
    "\n",
    "\n",
    "## Prerequisites\n",
    "You must have a [Cognitive Services API account](https://docs.microsoft.com/azure/cognitive-services/cognitive-services-apis-create-account) with **Bing Search APIs**. The [free trial](https://azure.microsoft.com/try/cognitive-services/?api=bing-web-search-api) is sufficient for this quickstart. You need the access key provided when you activate your free trial, or you may use a paid subscription key from your Azure dashboard.\n",
    "\n",
    "## Running the walkthrough"
   ]
  },
  {
   "cell_type": "markdown",
   "metadata": {},
   "source": [
    "Set `subscription_key` to your API key for the Bing API service."
   ]
  },
  {
   "cell_type": "code",
   "execution_count": 1,
   "metadata": {
    "collapsed": true
   },
   "outputs": [],
   "source": [
    "subscription_key = None\n",
    "assert subscription_key"
   ]
  },
  {
   "cell_type": "markdown",
   "metadata": {},
   "source": [
    "Next, verify that the `search_url` endpoint is correct. At this writing, only one endpoint is used for Bing search APIs. If you encounter authorization errors, double-check this value against the Bing search endpoint in your Azure dashboard."
   ]
  },
  {
   "cell_type": "code",
   "execution_count": 2,
   "metadata": {
    "collapsed": true
   },
   "outputs": [],
   "source": [
    "search_url = \"https://api.cognitive.microsoft.com/bing/v7.0/search\""
   ]
  },
  {
   "cell_type": "markdown",
   "metadata": {},
   "source": [
    "Set `search_term` to query Bing for Microsoft Cognitive Services."
   ]
  },
  {
   "cell_type": "code",
   "execution_count": null,
   "metadata": {
    "collapsed": true
   },
   "outputs": [],
   "source": [
    "search_term = \"Microsoft Cognitive Services\""
   ]
  },
  {
   "cell_type": "markdown",
   "metadata": {},
   "source": [
    "The following block uses the `requests` library in Python to call out to the Bing search APIs and return the results as a JSON object. Observe that we pass in the API key via the `headers` dictionary and the search term via the `params` dictionary. To see the full list of options that can be used to filter search results, refer to the [REST API](https://docs.microsoft.com/en-us/rest/api/cognitiveservices/bing-web-api-v7-reference) documentation."
   ]
  },
  {
   "cell_type": "code",
   "execution_count": 4,
   "metadata": {
    "collapsed": true
   },
   "outputs": [],
   "source": [
    "import requests\n",
    "\n",
    "headers = {\"Ocp-Apim-Subscription-Key\" : subscription_key}\n",
    "params  = {\"q\": search_term, \"textDecorations\":True, \"textFormat\":\"HTML\"}\n",
    "response = requests.get(search_url, headers=headers, params=params)\n",
    "response.raise_for_status()\n",
    "search_results = response.json()"
   ]
  },
  {
   "cell_type": "markdown",
   "metadata": {},
   "source": [
    "The `search_results` object contains the search results along with rich metadata such as related queries and pages. The following lines of code format the top pages returned by the query."
   ]
  },
  {
   "cell_type": "code",
   "execution_count": null,
   "metadata": {
    "collapsed": true
   },
   "outputs": [],
   "source": [
    "from IPython.display import HTML\n",
    "\n",
    "rows = \"\\n\".join([\"\"\"<tr>\n",
    "                       <td><a href=\\\"{0}\\\">{1}</a></td>\n",
    "                       <td>{2}</td>\n",
    "                     </tr>\"\"\".format(v[\"url\"],v[\"name\"],v[\"snippet\"]) \\\n",
    "                  for v in search_results[\"webPages\"][\"value\"]])\n",
    "HTML(\"<table>{0}</table>\".format(rows))"
   ]
  },
  {
   "cell_type": "markdown",
   "metadata": {},
   "source": [
    "## Next steps\n",
    "\n",
    "> [!div class=\"nextstepaction\"]\n",
    "> [Bing Web search single-page app tutorial](../tutorial-bing-web-search-single-page-app.md)\n",
    "\n",
    "## See also \n",
    "\n",
    "[Bing Web Search overview](../overview.md)  \n",
    "[Try it](https://azure.microsoft.com/services/cognitive-services/bing-web-search-api/)  \n",
    "[Get a free trial access key](https://azure.microsoft.com/try/cognitive-services/?api=bing-web-search-api)\n",
    "[Bing Web Search API reference](https://docs.microsoft.com/rest/api/cognitiveservices/bing-web-api-v7-reference)"
   ]
  }
 ],
 "metadata": {
  "kernelspec": {
   "display_name": "Python 3",
   "language": "python",
   "name": "python3"
  },
  "language_info": {
   "codemirror_mode": {
    "name": "ipython",
    "version": 3
   },
   "file_extension": ".py",
   "mimetype": "text/x-python",
   "name": "python",
   "nbconvert_exporter": "python",
   "pygments_lexer": "ipython3",
   "version": "3.6.3"
  },
  "ms_docs_meta": {
   "author": "jerrykindall",
   "description": "Get information and code samples to help you quickly get started using the Bing Web Search API in Microsoft Cognitive Services on Azure.",
   "documentationcenter": "''",
   "ms.author": "v-jerkin",
   "ms.date": "9/18/2017",
   "ms.service": "cognitive-services",
   "ms.technology": "bing-search",
   "ms.topic": "article",
   "services": "cognitive-services",
   "title": "Call and response - Python Quickstart for Azure Cognitive Services, Bing Web Search API | Microsoft Docs"
  }
 },
 "nbformat": 4,
 "nbformat_minor": 2
}
