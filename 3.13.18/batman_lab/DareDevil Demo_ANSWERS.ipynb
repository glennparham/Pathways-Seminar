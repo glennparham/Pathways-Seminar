{
 "cells": [
  {
   "cell_type": "markdown",
   "metadata": {},
   "source": [
    "# Daredevil Demo - Info 290: Privacy and Security Lab\n",
    "---\n",
    "\n",
    "In this lab, we will explore the potential privacy concerns regarding location data that is supposedly anonymous. We will use a modified version of NYC Taxi data (which is made public and can be found [here](http://www.nyc.gov/html/tlc/html/about/trip_record_data.shtml)) and modified NYC complaints data (found [here](https://data.cityofnewyork.us/Public-Safety/NYPD-Complaint-Map-Year-to-Date-/2fra-mtpn)).\n",
    "\n",
    "Based on the fictional Marvel superhero Daredevil, we will use these two datasets to find the identity/location of Daredevil (if you do not know the background of the superhero, do not worry). While this is a seemingly trivial example, it turns out that knowing just a little bit of information can be combined with a dataset to discover much more than [intended](https://research.neustar.biz/2014/09/15/riding-with-the-stars-passenger-privacy-in-the-nyc-taxicab-dataset/).\n",
    "\n",
    "**We will look at past crime data, and knowing that Daredevil is blind and thus cannot drive himself (assume Uber does not yet exist), must use a taxi to reach crimes far from his home**\n",
    "\n",
    "**This demo assumes a basic knowledge of Python (up to functions and for-loops)**\n",
    "\n",
    "*Estimated Time: 60 minutes*\n",
    "\n",
    "---\n",
    "\n",
    "**Topics Covered:**\n",
    "- Loading/Processing Data\n",
    "- Data Visualization\n",
    "- Combining, Exploring, and Using Data\n",
    "\n",
    "**Dependencies:**\n",
    "*if you are running this through DataHub, you do not need to worry about installing these*\n",
    "- numpy\n",
    "- datascience\n",
    "- folium\n",
    "- datetime\n"
   ]
  },
  {
   "cell_type": "code",
   "execution_count": 1,
   "metadata": {},
   "outputs": [
    {
     "name": "stdout",
     "output_type": "stream",
     "text": [
      "Requirement already up-to-date: folium in /srv/venv/lib/python3.6/site-packages\n",
      "Requirement already up-to-date: branca in /srv/venv/lib/python3.6/site-packages (from folium)\n",
      "Requirement already up-to-date: jinja2 in /srv/venv/lib/python3.6/site-packages (from folium)\n",
      "Requirement already up-to-date: requests in /srv/venv/lib/python3.6/site-packages (from folium)\n",
      "Requirement already up-to-date: six in /srv/venv/lib/python3.6/site-packages (from folium)\n",
      "Requirement already up-to-date: MarkupSafe>=0.23 in /srv/venv/lib/python3.6/site-packages (from jinja2->folium)\n",
      "Requirement already up-to-date: urllib3<1.23,>=1.21.1 in /srv/venv/lib/python3.6/site-packages (from requests->folium)\n",
      "Requirement already up-to-date: idna<2.7,>=2.5 in /srv/venv/lib/python3.6/site-packages (from requests->folium)\n",
      "Requirement already up-to-date: certifi>=2017.4.17 in /srv/venv/lib/python3.6/site-packages (from requests->folium)\n",
      "Requirement already up-to-date: chardet<3.1.0,>=3.0.2 in /srv/venv/lib/python3.6/site-packages (from requests->folium)\n"
     ]
    }
   ],
   "source": [
    "# Just run this cell. It imports all of the packages we will use\n",
    "import numpy as np\n",
    "from datascience import *\n",
    "import folium\n",
    "import datetime as dt\n",
    "import warnings\n",
    "%matplotlib inline\n",
    "warnings.filterwarnings('ignore')\n",
    "!pip install -U folium"
   ]
  },
  {
   "cell_type": "markdown",
   "metadata": {},
   "source": [
    "*Quick note, if you ever want to know more about a certain function, you can add a **?** after a function name to pull up the docstring for the function*"
   ]
  },
  {
   "cell_type": "code",
   "execution_count": 2,
   "metadata": {},
   "outputs": [],
   "source": [
    "Table.read_table?"
   ]
  },
  {
   "cell_type": "markdown",
   "metadata": {},
   "source": [
    "## Loading the data\n",
    "\n",
    "To start, we will load in the raw csv data (remember we are using 2 datasets) and view each one individually. Observe the column names and try to make note of what each name means. For some datasets, these names can be obscure and you will need to look directly at the source of the data to have more information about each column. However, in our case, most of the columns have column names we can easily interpret. There are a few columns that are not very clear about what they mean, but none of these columns will affect our search for the Daredevil in any significant way so we will ignore them (at least, in our demo)"
   ]
  },
  {
   "cell_type": "code",
   "execution_count": 3,
   "metadata": {
    "scrolled": false
   },
   "outputs": [
    {
     "name": "stdout",
     "output_type": "stream",
     "text": [
      "Taxi Data:\n"
     ]
    },
    {
     "data": {
      "text/html": [
       "<table border=\"1\" class=\"dataframe\">\n",
       "    <thead>\n",
       "        <tr>\n",
       "            <th>VendorID</th> <th>lpep_pickup_datetime</th> <th>Lpep_dropoff_datetime</th> <th>Store_and_fwd_flag</th> <th>RateCodeID</th> <th>Pickup_longitude</th> <th>Pickup_latitude</th> <th>Dropoff_longitude</th> <th>Dropoff_latitude</th> <th>Passenger_count</th> <th>Trip_distance</th> <th>Fare_amount</th> <th>Extra</th> <th>MTA_tax</th> <th>Tip_amount</th> <th>Tolls_amount</th> <th>Ehail_fee</th> <th>improvement_surcharge</th> <th>Total_amount</th> <th>Payment_type</th> <th>Trip_type </th>\n",
       "        </tr>\n",
       "    </thead>\n",
       "    <tbody>\n",
       "        <tr>\n",
       "            <td>2       </td> <td>2016-01-16 10:24:29 </td> <td>2016-01-16 10:32:46  </td> <td>N                 </td> <td>1         </td> <td>-73.951         </td> <td>40.6753        </td> <td>-73.938          </td> <td>40.6826         </td> <td>1              </td> <td>1.38         </td> <td>7.5        </td> <td>0    </td> <td>0.5    </td> <td>1.66      </td> <td>0           </td> <td>nan      </td> <td>0.3                  </td> <td>9.96        </td> <td>1           </td> <td>1         </td>\n",
       "        </tr>\n",
       "    </tbody>\n",
       "        <tr>\n",
       "            <td>2       </td> <td>2016-02-22 09:23:39 </td> <td>2016-02-22 09:26:08  </td> <td>N                 </td> <td>1         </td> <td>-73.9571        </td> <td>40.7458        </td> <td>-73.954          </td> <td>40.7427         </td> <td>1              </td> <td>0.47         </td> <td>3.5        </td> <td>0    </td> <td>0.5    </td> <td>1         </td> <td>0           </td> <td>nan      </td> <td>0.3                  </td> <td>5.3         </td> <td>1           </td> <td>1         </td>\n",
       "        </tr>\n",
       "    </tbody>\n",
       "        <tr>\n",
       "            <td>2       </td> <td>2015-12-01 21:05:00 </td> <td>2015-12-01 21:08:28  </td> <td>N                 </td> <td>1         </td> <td>-73.9033        </td> <td>40.7458        </td> <td>-73.9129         </td> <td>40.7485         </td> <td>1              </td> <td>0.63         </td> <td>4.5        </td> <td>0.5  </td> <td>0.5    </td> <td>0         </td> <td>0           </td> <td>nan      </td> <td>0.3                  </td> <td>5.8         </td> <td>2           </td> <td>1         </td>\n",
       "        </tr>\n",
       "    </tbody>\n",
       "        <tr>\n",
       "            <td>2       </td> <td>2016-03-03 10:43:47 </td> <td>2016-03-03 11:14:04  </td> <td>N                 </td> <td>1         </td> <td>-73.952         </td> <td>40.6823        </td> <td>-74.0057         </td> <td>40.7405         </td> <td>1              </td> <td>6.12         </td> <td>23         </td> <td>0    </td> <td>0.5    </td> <td>4.76      </td> <td>0           </td> <td>nan      </td> <td>0.3                  </td> <td>28.56       </td> <td>1           </td> <td>1         </td>\n",
       "        </tr>\n",
       "    </tbody>\n",
       "        <tr>\n",
       "            <td>2       </td> <td>2016-03-21 17:44:57 </td> <td>2016-03-21 18:04:18  </td> <td>N                 </td> <td>1         </td> <td>-73.977         </td> <td>40.6768        </td> <td>-73.9423         </td> <td>40.6842         </td> <td>1              </td> <td>2.61         </td> <td>13.5       </td> <td>1    </td> <td>0.5    </td> <td>3         </td> <td>0           </td> <td>nan      </td> <td>0.3                  </td> <td>18.3        </td> <td>1           </td> <td>1         </td>\n",
       "        </tr>\n",
       "    </tbody>\n",
       "</table>\n",
       "<p>... (20194 rows omitted)</p"
      ],
      "text/plain": [
       "<IPython.core.display.HTML object>"
      ]
     },
     "metadata": {},
     "output_type": "display_data"
    },
    {
     "name": "stdout",
     "output_type": "stream",
     "text": [
      "Complaints Data:\n"
     ]
    },
    {
     "data": {
      "text/html": [
       "<table border=\"1\" class=\"dataframe\">\n",
       "    <thead>\n",
       "        <tr>\n",
       "            <th>CMPLNT_NUM</th> <th>CMPLNT_FR_DT</th> <th>CMPLNT_FR_TM</th> <th>CMPLNT_TO_DT</th> <th>CMPLNT_TO_TM</th> <th>RPT_DT</th> <th>KY_CD</th> <th>OFNS_DESC</th> <th>PD_CD</th> <th>PD_DESC</th> <th>CRM_ATPT_CPTD_CD</th> <th>LAW_CAT_CD</th> <th>JURIS_DESC</th> <th>BORO_NM</th> <th>ADDR_PCT_CD</th> <th>LOC_OF_OCCUR_DESC</th> <th>PREM_TYP_DESC</th> <th>PARKS_NM</th> <th>HADEVELOPT</th> <th>X_COORD_CD</th> <th>Y_COORD_CD</th> <th>Latitude</th> <th>Longitude</th> <th>Lat_Lon</th>\n",
       "        </tr>\n",
       "    </thead>\n",
       "    <tbody>\n",
       "        <tr>\n",
       "            <td>614672714 </td> <td>03/24/2016  </td> <td>16:45:00    </td> <td>03/24/2016  </td> <td>17:00:00    </td> <td>03/26/2016</td> <td>578  </td> <td>HARRASSMENT 2                 </td> <td>638  </td> <td>HARASSMENT,SUBD 3,4,5         </td> <td>COMPLETED       </td> <td>VIOLATION  </td> <td>N.Y. POLICE DEPT</td> <td>BROOKLYN     </td> <td>67         </td> <td>FRONT OF         </td> <td>RESIDENCE-HOUSE       </td> <td>nan     </td> <td>nan       </td> <td>1.00256e+06</td> <td>172696    </td> <td>40.6407 </td> <td>-73.934  </td> <td>(40.640676528, -73.93404401) </td>\n",
       "        </tr>\n",
       "    </tbody>\n",
       "        <tr>\n",
       "            <td>864796982 </td> <td>02/22/2016  </td> <td>13:50:00    </td> <td>02/22/2016  </td> <td>14:10:00    </td> <td>02/22/2016</td> <td>110  </td> <td>GRAND LARCENY OF MOTOR VEHICLE</td> <td>441  </td> <td>LARCENY,GRAND OF AUTO         </td> <td>COMPLETED       </td> <td>FELONY     </td> <td>N.Y. POLICE DEPT</td> <td>BRONX        </td> <td>46         </td> <td>FRONT OF         </td> <td>STREET                </td> <td>nan     </td> <td>nan       </td> <td>1.00933e+06</td> <td>250025    </td> <td>40.8529 </td> <td>-73.9093 </td> <td>(40.852908431, -73.909340056)</td>\n",
       "        </tr>\n",
       "    </tbody>\n",
       "        <tr>\n",
       "            <td>105856897 </td> <td>03/21/2016  </td> <td>14:50:00    </td> <td>03/21/2016  </td> <td>14:55:00    </td> <td>03/21/2016</td> <td>344  </td> <td>ASSAULT 3 & RELATED OFFENSES  </td> <td>101  </td> <td>ASSAULT 3                     </td> <td>COMPLETED       </td> <td>MISDEMEANOR</td> <td>N.Y. POLICE DEPT</td> <td>STATEN ISLAND</td> <td>121        </td> <td>INSIDE           </td> <td>RESIDENCE-HOUSE       </td> <td>nan     </td> <td>nan       </td> <td>944075     </td> <td>166443    </td> <td>40.6234 </td> <td>-74.1447 </td> <td>(40.623441179, -74.144724551)</td>\n",
       "        </tr>\n",
       "    </tbody>\n",
       "        <tr>\n",
       "            <td>948233328 </td> <td>03/28/2016  </td> <td>18:15:00    </td> <td>03/28/2016  </td> <td>18:20:00    </td> <td>03/28/2016</td> <td>341  </td> <td>PETIT LARCENY                 </td> <td>333  </td> <td>LARCENY,PETIT FROM STORE-SHOPL</td> <td>COMPLETED       </td> <td>MISDEMEANOR</td> <td>N.Y. POLICE DEPT</td> <td>BRONX        </td> <td>45         </td> <td>INSIDE           </td> <td>JEWELRY               </td> <td>nan     </td> <td>nan       </td> <td>1.0336e+06 </td> <td>255731    </td> <td>40.8685 </td> <td>-73.8216 </td> <td>(40.868467378, -73.821582846)</td>\n",
       "        </tr>\n",
       "    </tbody>\n",
       "        <tr>\n",
       "            <td>765467317 </td> <td>02/02/2016  </td> <td>02:00:00    </td> <td>02/02/2016  </td> <td>02:01:00    </td> <td>02/02/2016</td> <td>344  </td> <td>ASSAULT 3 & RELATED OFFENSES  </td> <td>101  </td> <td>ASSAULT 3                     </td> <td>COMPLETED       </td> <td>MISDEMEANOR</td> <td>N.Y. POLICE DEPT</td> <td>QUEENS       </td> <td>114        </td> <td>INSIDE           </td> <td>RESIDENCE - APT. HOUSE</td> <td>nan     </td> <td>nan       </td> <td>1.00678e+06</td> <td>220990    </td> <td>40.7732 </td> <td>-73.9187 </td> <td>(40.773222365, -73.91867316) </td>\n",
       "        </tr>\n",
       "    </tbody>\n",
       "</table>\n",
       "<p>... (9995 rows omitted)</p"
      ],
      "text/plain": [
       "<IPython.core.display.HTML object>"
      ]
     },
     "metadata": {},
     "output_type": "display_data"
    }
   ],
   "source": [
    "# The lines below will load the data\n",
    "taxis_raw = Table.read_table(\"Taxi_data.csv\")\n",
    "complaints_raw = Table.read_table(\"NY_complaints.csv\")\n",
    "\n",
    "# Use .show(x) function to show the first x lines of a table\n",
    "print(\"Taxi Data:\")\n",
    "taxis_raw.show(5)\n",
    "print(\"Complaints Data:\")\n",
    "complaints_raw.show(5)"
   ]
  },
  {
   "cell_type": "markdown",
   "metadata": {},
   "source": [
    "We see that the data we have gives a lot of information! In particular, there seems to be a wealth of information in the form of times and locations. This sets up our general approach to finding our target. We will assume that for some number of the crimes committed (there would be no way for Daredevil to get to all crimes), Daredevil must have taken a taxi and was dropped off near the location of the crime. Thus, we can try to determine the taxis Daredevil took and then look at the original pickup location. However, this is complicated by the fact that we have much more data than we want and that we cannot expect Daredevil to have gotten a ride exactly to the same location and at the same exact time.\n",
    "\n",
    "## \"Cleaning\" our Data\n",
    "\n",
    "Before we move on to actually analyzing the data, we must process the data to be in a more usable form. Raw data is often very messy and can be a pain to work with. There can be missing values or [nans](https://en.wikipedia.org/wiki/NaN) (Not A Number) scattered throughout the dataset, and values can often be in a hard to use form. Processing the data now will make our lives much easier later.\n",
    "\n",
    "To start, we'll make the tables smaller by including only columns of interest. While this helps to focus our analysis, note that this also discards potentially useful information. If you finish the demo early and want to try some of your own analyses, feel free to use more columns than we do here (in creating the mock data, we use many more columns).\n",
    "\n",
    "For our taxi dataset, we will only select the columns for pickup/dropoff times, pickup/dropoff locations and the passenger count. For our complaints data, we will only select the level of offense (`LAW_CAT_CD`)."
   ]
  },
  {
   "cell_type": "code",
   "execution_count": 4,
   "metadata": {
    "scrolled": false
   },
   "outputs": [
    {
     "name": "stdout",
     "output_type": "stream",
     "text": [
      "Taxi Data:\n"
     ]
    },
    {
     "data": {
      "text/html": [
       "<table border=\"1\" class=\"dataframe\">\n",
       "    <thead>\n",
       "        <tr>\n",
       "            <th>Pickup_dt</th> <th>Dropoff_dt</th> <th>Pickup_longitude</th> <th>Pickup_latitude</th> <th>Dropoff_longitude</th> <th>Dropoff_latitude</th> <th>Passenger_count</th>\n",
       "        </tr>\n",
       "    </thead>\n",
       "    <tbody>\n",
       "        <tr>\n",
       "            <td>2016-01-16 10:24:29</td> <td>2016-01-16 10:32:46</td> <td>-73.951         </td> <td>40.6753        </td> <td>-73.938          </td> <td>40.6826         </td> <td>1              </td>\n",
       "        </tr>\n",
       "    </tbody>\n",
       "        <tr>\n",
       "            <td>2016-02-22 09:23:39</td> <td>2016-02-22 09:26:08</td> <td>-73.9571        </td> <td>40.7458        </td> <td>-73.954          </td> <td>40.7427         </td> <td>1              </td>\n",
       "        </tr>\n",
       "    </tbody>\n",
       "        <tr>\n",
       "            <td>2015-12-01 21:05:00</td> <td>2015-12-01 21:08:28</td> <td>-73.9033        </td> <td>40.7458        </td> <td>-73.9129         </td> <td>40.7485         </td> <td>1              </td>\n",
       "        </tr>\n",
       "    </tbody>\n",
       "        <tr>\n",
       "            <td>2016-03-03 10:43:47</td> <td>2016-03-03 11:14:04</td> <td>-73.952         </td> <td>40.6823        </td> <td>-74.0057         </td> <td>40.7405         </td> <td>1              </td>\n",
       "        </tr>\n",
       "    </tbody>\n",
       "        <tr>\n",
       "            <td>2016-03-21 17:44:57</td> <td>2016-03-21 18:04:18</td> <td>-73.977         </td> <td>40.6768        </td> <td>-73.9423         </td> <td>40.6842         </td> <td>1              </td>\n",
       "        </tr>\n",
       "    </tbody>\n",
       "</table>\n",
       "<p>... (20194 rows omitted)</p"
      ],
      "text/plain": [
       "<IPython.core.display.HTML object>"
      ]
     },
     "metadata": {},
     "output_type": "display_data"
    },
    {
     "name": "stdout",
     "output_type": "stream",
     "text": [
      "Complaints Data:\n"
     ]
    },
    {
     "data": {
      "text/html": [
       "<table border=\"1\" class=\"dataframe\">\n",
       "    <thead>\n",
       "        <tr>\n",
       "            <th>CMPLNT_FR_DT</th> <th>CMPLNT_FR_TM</th> <th>OFNS_DESC</th> <th>PD_DESC</th> <th>LAW_CAT_CD</th> <th>Latitude</th> <th>Longitude</th>\n",
       "        </tr>\n",
       "    </thead>\n",
       "    <tbody>\n",
       "        <tr>\n",
       "            <td>03/24/2016  </td> <td>16:45:00    </td> <td>HARRASSMENT 2                 </td> <td>HARASSMENT,SUBD 3,4,5         </td> <td>VIOLATION  </td> <td>40.6407 </td> <td>-73.934  </td>\n",
       "        </tr>\n",
       "    </tbody>\n",
       "        <tr>\n",
       "            <td>02/22/2016  </td> <td>13:50:00    </td> <td>GRAND LARCENY OF MOTOR VEHICLE</td> <td>LARCENY,GRAND OF AUTO         </td> <td>FELONY     </td> <td>40.8529 </td> <td>-73.9093 </td>\n",
       "        </tr>\n",
       "    </tbody>\n",
       "        <tr>\n",
       "            <td>03/21/2016  </td> <td>14:50:00    </td> <td>ASSAULT 3 & RELATED OFFENSES  </td> <td>ASSAULT 3                     </td> <td>MISDEMEANOR</td> <td>40.6234 </td> <td>-74.1447 </td>\n",
       "        </tr>\n",
       "    </tbody>\n",
       "        <tr>\n",
       "            <td>03/28/2016  </td> <td>18:15:00    </td> <td>PETIT LARCENY                 </td> <td>LARCENY,PETIT FROM STORE-SHOPL</td> <td>MISDEMEANOR</td> <td>40.8685 </td> <td>-73.8216 </td>\n",
       "        </tr>\n",
       "    </tbody>\n",
       "        <tr>\n",
       "            <td>02/02/2016  </td> <td>02:00:00    </td> <td>ASSAULT 3 & RELATED OFFENSES  </td> <td>ASSAULT 3                     </td> <td>MISDEMEANOR</td> <td>40.7732 </td> <td>-73.9187 </td>\n",
       "        </tr>\n",
       "    </tbody>\n",
       "</table>\n",
       "<p>... (9995 rows omitted)</p"
      ],
      "text/plain": [
       "<IPython.core.display.HTML object>"
      ]
     },
     "metadata": {},
     "output_type": "display_data"
    }
   ],
   "source": [
    "# Selecting the columns of Taxi Data according to column index\n",
    "taxis = taxis_raw.select([1,2,5,6,7,8,9])\n",
    "taxis.relabel(['lpep_pickup_datetime', 'Lpep_dropoff_datetime'], ['Pickup_dt', 'Dropoff_dt']) # renames column\n",
    "print(\"Taxi Data:\")\n",
    "taxis.show(5)\n",
    "\n",
    "# Selecting the columns of Complaints Data according to column index\n",
    "complaints = complaints_raw.select([1,2,7,9,11,21,22])\n",
    "print(\"Complaints Data:\")\n",
    "complaints.show(5)"
   ]
  },
  {
   "cell_type": "markdown",
   "metadata": {},
   "source": [
    "Now we have selected our columns, let's remove all of the rows that have a missing or null value. We will also remove zero values because some of the taxi locations have 0,0 as their coordinates (which is [clearly](https://www.google.com/maps/place/0%C2%B000'00.0%22N+0%C2%B000'00.0%22E/) not correct)."
   ]
  },
  {
   "cell_type": "code",
   "execution_count": 5,
   "metadata": {},
   "outputs": [
    {
     "data": {
      "text/html": [
       "<table border=\"1\" class=\"dataframe\">\n",
       "    <thead>\n",
       "        <tr>\n",
       "            <th>Pickup_dt</th> <th>Dropoff_dt</th> <th>Pickup_longitude</th> <th>Pickup_latitude</th> <th>Dropoff_longitude</th> <th>Dropoff_latitude</th> <th>Passenger_count</th>\n",
       "        </tr>\n",
       "    </thead>\n",
       "    <tbody>\n",
       "        <tr>\n",
       "            <td>2016-01-16 10:24:29</td> <td>2016-01-16 10:32:46</td> <td>-73.951         </td> <td>40.6753        </td> <td>-73.938          </td> <td>40.6826         </td> <td>1              </td>\n",
       "        </tr>\n",
       "    </tbody>\n",
       "        <tr>\n",
       "            <td>2016-02-22 09:23:39</td> <td>2016-02-22 09:26:08</td> <td>-73.9571        </td> <td>40.7458        </td> <td>-73.954          </td> <td>40.7427         </td> <td>1              </td>\n",
       "        </tr>\n",
       "    </tbody>\n",
       "        <tr>\n",
       "            <td>2015-12-01 21:05:00</td> <td>2015-12-01 21:08:28</td> <td>-73.9033        </td> <td>40.7458        </td> <td>-73.9129         </td> <td>40.7485         </td> <td>1              </td>\n",
       "        </tr>\n",
       "    </tbody>\n",
       "        <tr>\n",
       "            <td>2016-03-03 10:43:47</td> <td>2016-03-03 11:14:04</td> <td>-73.952         </td> <td>40.6823        </td> <td>-74.0057         </td> <td>40.7405         </td> <td>1              </td>\n",
       "        </tr>\n",
       "    </tbody>\n",
       "        <tr>\n",
       "            <td>2016-03-21 17:44:57</td> <td>2016-03-21 18:04:18</td> <td>-73.977         </td> <td>40.6768        </td> <td>-73.9423         </td> <td>40.6842         </td> <td>1              </td>\n",
       "        </tr>\n",
       "    </tbody>\n",
       "</table>\n",
       "<p>... (20128 rows omitted)</p"
      ],
      "text/plain": [
       "<IPython.core.display.HTML object>"
      ]
     },
     "metadata": {},
     "output_type": "display_data"
    },
    {
     "data": {
      "text/html": [
       "<table border=\"1\" class=\"dataframe\">\n",
       "    <thead>\n",
       "        <tr>\n",
       "            <th>CMPLNT_FR_DT</th> <th>CMPLNT_FR_TM</th> <th>OFNS_DESC</th> <th>PD_DESC</th> <th>LAW_CAT_CD</th> <th>Latitude</th> <th>Longitude</th>\n",
       "        </tr>\n",
       "    </thead>\n",
       "    <tbody>\n",
       "        <tr>\n",
       "            <td>03/24/2016  </td> <td>16:45:00    </td> <td>HARRASSMENT 2                 </td> <td>HARASSMENT,SUBD 3,4,5         </td> <td>VIOLATION  </td> <td>40.6407 </td> <td>-73.934  </td>\n",
       "        </tr>\n",
       "    </tbody>\n",
       "        <tr>\n",
       "            <td>02/22/2016  </td> <td>13:50:00    </td> <td>GRAND LARCENY OF MOTOR VEHICLE</td> <td>LARCENY,GRAND OF AUTO         </td> <td>FELONY     </td> <td>40.8529 </td> <td>-73.9093 </td>\n",
       "        </tr>\n",
       "    </tbody>\n",
       "        <tr>\n",
       "            <td>03/21/2016  </td> <td>14:50:00    </td> <td>ASSAULT 3 & RELATED OFFENSES  </td> <td>ASSAULT 3                     </td> <td>MISDEMEANOR</td> <td>40.6234 </td> <td>-74.1447 </td>\n",
       "        </tr>\n",
       "    </tbody>\n",
       "        <tr>\n",
       "            <td>03/28/2016  </td> <td>18:15:00    </td> <td>PETIT LARCENY                 </td> <td>LARCENY,PETIT FROM STORE-SHOPL</td> <td>MISDEMEANOR</td> <td>40.8685 </td> <td>-73.8216 </td>\n",
       "        </tr>\n",
       "    </tbody>\n",
       "        <tr>\n",
       "            <td>02/02/2016  </td> <td>02:00:00    </td> <td>ASSAULT 3 & RELATED OFFENSES  </td> <td>ASSAULT 3                     </td> <td>MISDEMEANOR</td> <td>40.7732 </td> <td>-73.9187 </td>\n",
       "        </tr>\n",
       "    </tbody>\n",
       "</table>\n",
       "<p>... (9817 rows omitted)</p"
      ],
      "text/plain": [
       "<IPython.core.display.HTML object>"
      ]
     },
     "metadata": {},
     "output_type": "display_data"
    }
   ],
   "source": [
    "def remove_nan(t):\n",
    "    \"\"\"\n",
    "    Removes all rows with nan values checking each column\n",
    "    Note you should use this AFTER stripping the table of columns you do not need\n",
    "    so you do not remove rows when given a column without much information\n",
    "\n",
    "    Will remove most nan values but may not work with some other default missing values\n",
    "    (specifically, will not remove -999, etc. values)\n",
    "\n",
    "    Parameters:\n",
    "    t: a table whose rows with nan values you want to remove\n",
    "\n",
    "    returns a table identical to t but without rows containing nan values\n",
    "    \"\"\"\n",
    "    def checkNotnan(val):\n",
    "        if (val!=val)|(val=='nan')|(val=='NAN')|(val=='NaN')|(val==0):\n",
    "            return False\n",
    "        return True\n",
    "    for i in range(t.num_columns):\n",
    "        t = t.where(i, checkNotnan)\n",
    "    return t\n",
    "\n",
    "taxis = remove_nan(taxis)\n",
    "complaints = remove_nan(complaints)\n",
    "taxis.show(5)\n",
    "complaints.show(5)"
   ]
  },
  {
   "cell_type": "markdown",
   "metadata": {},
   "source": [
    "We will now convert the format of some of the columns to be more usable. Currently, the taxi dates are in a string format and we would like to change it to a [datetime](https://docs.python.org/3/library/datetime.html) object. Effectively, we are taking the time, which is stored like any old written text, and converting it to a functional form where we can easily make comparisons to other times.\n",
    "\n",
    "To do this we will use the `apply` method to run our function for each row in the datetime columns of the taxi data."
   ]
  },
  {
   "cell_type": "code",
   "execution_count": 6,
   "metadata": {},
   "outputs": [
    {
     "name": "stdout",
     "output_type": "stream",
     "text": [
      "Before: ['2016-01-16 10:24:29' '2016-02-22 09:23:39' '2015-12-01 21:05:00' ...,\n",
      " '2016-02-21 00:11:00' '2015-12-06 18:11:47' '2015-12-26 11:59:12']\n",
      "\n",
      "After: [datetime.datetime(2016, 1, 16, 10, 24, 29)\n",
      " datetime.datetime(2016, 2, 22, 9, 23, 39)\n",
      " datetime.datetime(2015, 12, 1, 21, 5) ...,\n",
      " datetime.datetime(2016, 2, 21, 0, 11)\n",
      " datetime.datetime(2015, 12, 6, 18, 11, 47)\n",
      " datetime.datetime(2015, 12, 26, 11, 59, 12)]\n"
     ]
    }
   ],
   "source": [
    "# This function will conveniently convert a specific format of string to a datetime\n",
    "def to_datetime(string_date):\n",
    "    '''will strip a date in a string format and return a datetime format'''\n",
    "    if type(string_date) == dt.datetime:\n",
    "        return string_date\n",
    "    return dt.datetime.strptime(string_date, '%Y-%m-%d %H:%M:%S')\n",
    "\n",
    "print(\"Before:\", taxis.column(0))\n",
    "print()\n",
    "\n",
    "converted_pickup_col = taxis.apply(to_datetime, 'Pickup_dt')\n",
    "converted_dropoff_col = taxis.apply(to_datetime, 'Dropoff_dt')\n",
    "taxis = taxis.with_column('Pickup_dt', converted_pickup_col)\n",
    "taxis = taxis.with_column('Dropoff_dt', converted_dropoff_col)\n",
    "print(\"After:\", taxis.column(0))"
   ]
  },
  {
   "cell_type": "markdown",
   "metadata": {},
   "source": [
    "Now we will combine the dates and times of the complaints data once again by applying a function -- but now to two columns! The format of the complaints are also strings, and we want to combine them to be a single datetime object."
   ]
  },
  {
   "cell_type": "code",
   "execution_count": 7,
   "metadata": {},
   "outputs": [
    {
     "data": {
      "text/html": [
       "<table border=\"1\" class=\"dataframe\">\n",
       "    <thead>\n",
       "        <tr>\n",
       "            <th>Complaint_dt</th> <th>Latitude</th> <th>Longitude</th> <th>OFNS_DESC</th> <th>PD_DESC</th> <th>LAW_CAT_CD</th>\n",
       "        </tr>\n",
       "    </thead>\n",
       "    <tbody>\n",
       "        <tr>\n",
       "            <td>2016-03-24 16:45:00</td> <td>40.6407 </td> <td>-73.934  </td> <td>HARRASSMENT 2                 </td> <td>HARASSMENT,SUBD 3,4,5         </td> <td>VIOLATION  </td>\n",
       "        </tr>\n",
       "    </tbody>\n",
       "        <tr>\n",
       "            <td>2016-02-22 13:50:00</td> <td>40.8529 </td> <td>-73.9093 </td> <td>GRAND LARCENY OF MOTOR VEHICLE</td> <td>LARCENY,GRAND OF AUTO         </td> <td>FELONY     </td>\n",
       "        </tr>\n",
       "    </tbody>\n",
       "        <tr>\n",
       "            <td>2016-03-21 14:50:00</td> <td>40.6234 </td> <td>-74.1447 </td> <td>ASSAULT 3 & RELATED OFFENSES  </td> <td>ASSAULT 3                     </td> <td>MISDEMEANOR</td>\n",
       "        </tr>\n",
       "    </tbody>\n",
       "        <tr>\n",
       "            <td>2016-03-28 18:15:00</td> <td>40.8685 </td> <td>-73.8216 </td> <td>PETIT LARCENY                 </td> <td>LARCENY,PETIT FROM STORE-SHOPL</td> <td>MISDEMEANOR</td>\n",
       "        </tr>\n",
       "    </tbody>\n",
       "        <tr>\n",
       "            <td>2016-02-02 02:00:00</td> <td>40.7732 </td> <td>-73.9187 </td> <td>ASSAULT 3 & RELATED OFFENSES  </td> <td>ASSAULT 3                     </td> <td>MISDEMEANOR</td>\n",
       "        </tr>\n",
       "    </tbody>\n",
       "</table>\n",
       "<p>... (9817 rows omitted)</p"
      ],
      "text/plain": [
       "<IPython.core.display.HTML object>"
      ]
     },
     "metadata": {},
     "output_type": "display_data"
    }
   ],
   "source": [
    "# The function we will apply to the table. Do not worry too much about the details of it\n",
    "def combine_date_time(date_string, time_string):\n",
    "    '''function that takes a date in the format of a string and a \n",
    "    time in the format of a string and then combines the two into a new datetime format'''\n",
    "    if type(date_string) == dt.date:\n",
    "        date = date_string\n",
    "    elif type(date_string) == dt.datetime:\n",
    "        date = date_string.date()\n",
    "    else:\n",
    "        date = dt.datetime.strptime(date_string, '%m/%d/%Y').date()\n",
    "        \n",
    "    if type(time_string) == dt.time:\n",
    "        time = time_string\n",
    "    elif type(date_string) == dt.datetime:\n",
    "        time = time_string.time()\n",
    "    else:\n",
    "        time = dt.datetime.strptime(time_string, '%H:%M:%S').time()\n",
    "    return dt.datetime.combine(date, time)\n",
    "\n",
    "# applies the function above\n",
    "combined_times = complaints.apply(combine_date_time, [\"CMPLNT_FR_DT\", \"CMPLNT_FR_TM\"])\n",
    "complaints = complaints.with_column(\"Complaint_dt\", combined_times)\n",
    "# drops the first two columns and reorders the table\n",
    "complaints = complaints.drop([0, 1]).select([5,3,4,0,1,2])\n",
    "complaints.show(5)"
   ]
  },
  {
   "cell_type": "markdown",
   "metadata": {},
   "source": [
    "We will also combine the latitude/longitude data into one column so we can more easily apply functions using the `datascience` package."
   ]
  },
  {
   "cell_type": "code",
   "execution_count": 8,
   "metadata": {},
   "outputs": [
    {
     "data": {
      "text/html": [
       "<table border=\"1\" class=\"dataframe\">\n",
       "    <thead>\n",
       "        <tr>\n",
       "            <th>Pickup_dt</th> <th>Dropoff_dt</th> <th>Passenger_count</th> <th>Pickup_location</th> <th>Dropoff_location</th>\n",
       "        </tr>\n",
       "    </thead>\n",
       "    <tbody>\n",
       "        <tr>\n",
       "            <td>2016-01-16 10:24:29</td> <td>2016-01-16 10:32:46</td> <td>1              </td> <td>[ 40.67527008 -73.95104218]</td> <td>[ 40.68263626 -73.93795776]</td>\n",
       "        </tr>\n",
       "    </tbody>\n",
       "        <tr>\n",
       "            <td>2016-02-22 09:23:39</td> <td>2016-02-22 09:26:08</td> <td>1              </td> <td>[ 40.74575424 -73.95707703]</td> <td>[ 40.742733   -73.95397186]</td>\n",
       "        </tr>\n",
       "    </tbody>\n",
       "</table>\n",
       "<p>... (20131 rows omitted)</p"
      ],
      "text/plain": [
       "<IPython.core.display.HTML object>"
      ]
     },
     "metadata": {},
     "output_type": "display_data"
    },
    {
     "data": {
      "text/html": [
       "<table border=\"1\" class=\"dataframe\">\n",
       "    <thead>\n",
       "        <tr>\n",
       "            <th>Complaint_dt</th> <th>OFNS_DESC</th> <th>PD_DESC</th> <th>LAW_CAT_CD</th> <th>Location</th>\n",
       "        </tr>\n",
       "    </thead>\n",
       "    <tbody>\n",
       "        <tr>\n",
       "            <td>2016-03-24 16:45:00</td> <td>HARRASSMENT 2                 </td> <td>HARASSMENT,SUBD 3,4,5</td> <td>VIOLATION </td> <td>[ 40.64067653 -73.93404401]</td>\n",
       "        </tr>\n",
       "    </tbody>\n",
       "        <tr>\n",
       "            <td>2016-02-22 13:50:00</td> <td>GRAND LARCENY OF MOTOR VEHICLE</td> <td>LARCENY,GRAND OF AUTO</td> <td>FELONY    </td> <td>[ 40.85290843 -73.90934006]</td>\n",
       "        </tr>\n",
       "    </tbody>\n",
       "</table>\n",
       "<p>... (9820 rows omitted)</p"
      ],
      "text/plain": [
       "<IPython.core.display.HTML object>"
      ]
     },
     "metadata": {},
     "output_type": "display_data"
    }
   ],
   "source": [
    "def combine_coordinates(latitude, longitude):\n",
    "    \"\"\"\n",
    "    returns a tuple of the given latitude and longitude\n",
    "    \"\"\"\n",
    "    return (latitude, longitude)\n",
    "\n",
    "# Apply the function above\n",
    "taxis_combined_pickup_loc = taxis.apply(combine_coordinates, ['Pickup_latitude', 'Pickup_longitude'])\n",
    "taxis_combined_dropoff_loc = taxis.apply(combine_coordinates, ['Dropoff_latitude', 'Dropoff_longitude'])\n",
    "complaints_combined_loc = complaints.apply(combine_coordinates, ['Latitude', 'Longitude'])\n",
    "\n",
    "# combine with tables and drop previous columns\n",
    "taxis = taxis.with_column(\"Pickup_location\", taxis_combined_pickup_loc)\n",
    "taxis = taxis.with_column(\"Dropoff_location\", taxis_combined_dropoff_loc)\n",
    "taxis = taxis.drop([2,3,4,5])\n",
    "\n",
    "complaints = complaints.with_column(\"Location\", complaints_combined_loc)\n",
    "complaints = complaints.drop([1,2])\n",
    "\n",
    "taxis.show(2)\n",
    "complaints.show(2)"
   ]
  },
  {
   "cell_type": "markdown",
   "metadata": {},
   "source": [
    "Now we get to move on from the boring (yet important) preprocessing of data!"
   ]
  },
  {
   "cell_type": "markdown",
   "metadata": {},
   "source": [
    "## Visualization\n",
    "\n",
    "Before we begin trying to find our DareDevil, we will explore some of the visualization tools that we can use to easily see the data. We will be using `folium` for this purpose. You can look through the `folium` [quickstart guide](https://folium.readthedocs.io/en/latest/) or use some of the built-in helper functions we provide."
   ]
  },
  {
   "cell_type": "code",
   "execution_count": 9,
   "metadata": {
    "scrolled": false
   },
   "outputs": [
    {
     "data": {
      "text/html": [
       "<div style=\"width:100%;\"><div style=\"position:relative;width:100%;height:0;padding-bottom:60%;\"><iframe src=\"data:text/html;charset=utf-8;base64,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\" style=\"position:absolute;width:100%;height:100%;left:0;top:0;border:none !important;\" allowfullscreen webkitallowfullscreen mozallowfullscreen></iframe></div></div>"
      ],
      "text/plain": [
       "<folium.folium.Map at 0x7fb5fc1f7e48>"
      ]
     },
     "execution_count": 9,
     "metadata": {},
     "output_type": "execute_result"
    }
   ],
   "source": [
    "# This is the syntax to create an empty map centered at coordinates 40.7127,-74.0059\n",
    "# This is also the coordinates of NYC so you can simply use these coordinates in any other maps for this lab\n",
    "map_example = folium.Map(width=700,height=500,location=[40.7128,-74.0059], zoom_start=10)\n",
    "\n",
    "# to display the map simply type the name\n",
    "map_example"
   ]
  },
  {
   "cell_type": "markdown",
   "metadata": {},
   "source": [
    "In order to start plotting points for the lab, `folium` uses a class called Markers. You can read more documentation [here](https://folium.readthedocs.io/en/latest/quickstart.html#markers). The basics of `folium` are displayed below."
   ]
  },
  {
   "cell_type": "code",
   "execution_count": 10,
   "metadata": {},
   "outputs": [
    {
     "data": {
      "text/html": [
       "<div style=\"width:100%;\"><div style=\"position:relative;width:100%;height:0;padding-bottom:60%;\"><iframe src=\"data:text/html;charset=utf-8;base64,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\" style=\"position:absolute;width:100%;height:100%;left:0;top:0;border:none !important;\" allowfullscreen webkitallowfullscreen mozallowfullscreen></iframe></div></div>"
      ],
      "text/plain": [
       "<folium.folium.Map at 0x7fb5fc1f7e48>"
      ]
     },
     "execution_count": 10,
     "metadata": {},
     "output_type": "execute_result"
    }
   ],
   "source": [
    "# Creating a new marker at coordinates (40.8436, -73.5633)\n",
    "marker_example = folium.Marker([40.72, -73.9633])\n",
    "# adds the marker to the map\n",
    "marker_example.add_to(map_example)\n",
    "# Note that there is no easy way to remove a marker once you add it to the map\n",
    "# If you want reset a map, simply run map_example = folium.Map(location=[40.7128,-74.0059])\n",
    "# in order to create a new one instead\n",
    "\n",
    "# display the map\n",
    "map_example"
   ]
  },
  {
   "cell_type": "markdown",
   "metadata": {},
   "source": [
    "We define a function `addMarkers` below. This function will automatically add markers to a map from a given table assuming the table has a column called \"Location\". "
   ]
  },
  {
   "cell_type": "code",
   "execution_count": 11,
   "metadata": {},
   "outputs": [],
   "source": [
    "def addMarkers(fol_map, mark, location_col, color=\"blue\",icon='star',max_num=25, popup_cols=[]):\n",
    "    \"\"\"\n",
    "    adds markers to folium fol_map based on a table mark\n",
    "    Parameters:\n",
    "    fol_map: a folium.Map class that you want to add markers to\n",
    "    mark: a table containing two columns 'Latitude' and 'Longitude'\n",
    "        if these columns do not exits, defaults to using first column as latitude and 2nd as longitude\n",
    "    color: color of the marker added (default: blue)\n",
    "    icon: icon of marker added (default: star)\n",
    "    max_num: the maximum number of markers added. Use to not overload folium map (default: 25)\n",
    "    popup: the columns of the table to be included\n",
    "    returns nothing. Will modify fol_map directly\n",
    "    \"\"\"\n",
    "    if type(location_col)==str:\n",
    "        location_col = mark.column_index(location_col)\n",
    "    for i in range(mark.num_rows):\n",
    "        row = mark.row(i)\n",
    "        popup = None\n",
    "        if len(popup_cols)>0:\n",
    "            popup = \"\"\n",
    "            for col in popup_cols:\n",
    "                popup += mark.column_labels[col] + \": \" + str(row[col]) + '  '\n",
    "        folium.Marker(row[location_col],icon=folium.Icon(color=color, icon=icon), popup=popup).add_to(fol_map)\n",
    "        if (i>max_num):\n",
    "             return"
   ]
  },
  {
   "cell_type": "markdown",
   "metadata": {},
   "source": [
    "Now we can add markers to the map from our taxi data set!"
   ]
  },
  {
   "cell_type": "code",
   "execution_count": 12,
   "metadata": {},
   "outputs": [
    {
     "data": {
      "text/html": [
       "<div style=\"width:100%;\"><div style=\"position:relative;width:100%;height:0;padding-bottom:60%;\"><iframe src=\"data:text/html;charset=utf-8;base64,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\" style=\"position:absolute;width:100%;height:100%;left:0;top:0;border:none !important;\" allowfullscreen webkitallowfullscreen mozallowfullscreen></iframe></div></div>"
      ],
      "text/plain": [
       "<folium.folium.Map at 0x7fb5fcced8d0>"
      ]
     },
     "execution_count": 12,
     "metadata": {},
     "output_type": "execute_result"
    }
   ],
   "source": [
    "# reset the map_example variable\n",
    "map_example = folium.Map(width=700,height=500,location=[40.7128,-74.0059], zoom_start=10)\n",
    "\n",
    "# You can also change the color and icon of the markers\n",
    "addMarkers(map_example, taxis, 'Dropoff_location', color='red', icon='cloud', popup_cols=[0,1])\n",
    "# type help(folium.Icon) to get some details of what you can put in color and icon\n",
    "\n",
    "map_example"
   ]
  },
  {
   "cell_type": "markdown",
   "metadata": {},
   "source": [
    "## Analyzing Data\n",
    "\n",
    "We will be looking at the latitude and longitude data from `complaints` and `taxi` as well as the times of each of those events (so if you dropped these columns earlier, go back and change your selection so these columns are included).\n",
    "\n",
    "The rationale in our analysis is that DareDevil responds to crimes that show up in the NYPD complaints log, which lists the location of a crime. Thus, if we look at a crime where Daredevil was present, we expect to find a corresponding taxi that goes to the general area. Then, if we look at where this taxi originated from, we should be (in theory) able to find where Daredevil originates from and thus get closer to identifying him.\n",
    "\n",
    "In the real world, you can imagine that we would use a variety of ideas to begin looking for specific people or narrow our search (e.g. photos of taxis celebrities emerged out of, knowledge of where someone lives, etc.)"
   ]
  },
  {
   "cell_type": "code",
   "execution_count": 13,
   "metadata": {},
   "outputs": [
    {
     "data": {
      "text/html": [
       "<table border=\"1\" class=\"dataframe\">\n",
       "    <thead>\n",
       "        <tr>\n",
       "            <th>Pickup_dt</th> <th>Dropoff_dt</th> <th>Passenger_count</th> <th>Pickup_location</th> <th>Dropoff_location</th>\n",
       "        </tr>\n",
       "    </thead>\n",
       "    <tbody>\n",
       "        <tr>\n",
       "            <td>2016-01-16 10:24:29</td> <td>2016-01-16 10:32:46</td> <td>1              </td> <td>[ 40.67527008 -73.95104218]</td> <td>[ 40.68263626 -73.93795776]</td>\n",
       "        </tr>\n",
       "    </tbody>\n",
       "</table>\n",
       "<p>... (20132 rows omitted)</p"
      ],
      "text/plain": [
       "<IPython.core.display.HTML object>"
      ]
     },
     "metadata": {},
     "output_type": "display_data"
    },
    {
     "data": {
      "text/html": [
       "<table border=\"1\" class=\"dataframe\">\n",
       "    <thead>\n",
       "        <tr>\n",
       "            <th>Complaint_dt</th> <th>OFNS_DESC</th> <th>PD_DESC</th> <th>LAW_CAT_CD</th> <th>Location</th>\n",
       "        </tr>\n",
       "    </thead>\n",
       "    <tbody>\n",
       "        <tr>\n",
       "            <td>2016-03-24 16:45:00</td> <td>HARRASSMENT 2</td> <td>HARASSMENT,SUBD 3,4,5</td> <td>VIOLATION </td> <td>[ 40.64067653 -73.93404401]</td>\n",
       "        </tr>\n",
       "    </tbody>\n",
       "</table>\n",
       "<p>... (9821 rows omitted)</p"
      ],
      "text/plain": [
       "<IPython.core.display.HTML object>"
      ]
     },
     "metadata": {},
     "output_type": "display_data"
    }
   ],
   "source": [
    "# Run this cell to display the tables\n",
    "taxis.show(1)\n",
    "complaints.show(1)"
   ]
  },
  {
   "cell_type": "markdown",
   "metadata": {},
   "source": [
    "Lets look at the times first. Perhaps we know that DareDevil took some taxi sometime near 11:00 pm (23:00) on January 4th. We can try to find the destination by looking at all taxi rides around that time using the `taxi` dataset. We can then write a function that checks if an event occurs within x minutes from a certain time. Then, we can use this function to select only rows from the tables that correspond to these times.\n",
    "\n",
    "We will use the `Table.where` method. One way to use this function is to give it a column name and a function that returns a boolean value (True or False) and it returns a copy of the original table, but with only the rows where the function returned True when applied to that column."
   ]
  },
  {
   "cell_type": "code",
   "execution_count": 14,
   "metadata": {},
   "outputs": [
    {
     "data": {
      "text/html": [
       "<table border=\"1\" class=\"dataframe\">\n",
       "    <thead>\n",
       "        <tr>\n",
       "            <th>Pickup_dt</th> <th>Dropoff_dt</th> <th>Passenger_count</th> <th>Pickup_location</th> <th>Dropoff_location</th>\n",
       "        </tr>\n",
       "    </thead>\n",
       "    <tbody>\n",
       "        <tr>\n",
       "            <td>2016-01-04 23:02:03</td> <td>2016-01-04 23:32:31</td> <td>1              </td> <td>[ 40.83343887 -73.8605957 ]</td> <td>[ 40.75482559 -73.9465332 ]</td>\n",
       "        </tr>\n",
       "    </tbody>\n",
       "</table>"
      ],
      "text/plain": [
       "<IPython.core.display.HTML object>"
      ]
     },
     "metadata": {},
     "output_type": "display_data"
    }
   ],
   "source": [
    "def near_11pm_jan_4(time):\n",
    "    '''\n",
    "    Returns a boolean (true or false) whether a time is 5 minutes away from January 4, 2016 at 11pm.\n",
    "    '''\n",
    "    jan_4_11_pm = dt.datetime(2016,1,4,23)\n",
    "    return abs(time - jan_4_11_pm) <= dt.timedelta(minutes=5)\n",
    "\n",
    "# Now we use the .where function to select rows from taxi where the pickup time was within 5 minutes of 11pm\n",
    "# on January 4th!\n",
    "near_11_taxis = taxis.where('Pickup_dt', near_11pm_jan_4)\n",
    "near_11_taxis.show()"
   ]
  },
  {
   "cell_type": "markdown",
   "metadata": {},
   "source": [
    "You may have noticed that this function is pretty restrictive. It only allows us to check a table for one specific time! Below we will define a new function that is more general and will allow us to compare two times with each other. This will prove very useful later."
   ]
  },
  {
   "cell_type": "code",
   "execution_count": 15,
   "metadata": {},
   "outputs": [
    {
     "data": {
      "text/html": [
       "<table border=\"1\" class=\"dataframe\">\n",
       "    <thead>\n",
       "        <tr>\n",
       "            <th>Pickup_dt</th> <th>Dropoff_dt</th> <th>Passenger_count</th> <th>Pickup_location</th> <th>Dropoff_location</th>\n",
       "        </tr>\n",
       "    </thead>\n",
       "    <tbody>\n",
       "        <tr>\n",
       "            <td>2016-01-04 23:02:03</td> <td>2016-01-04 23:32:31</td> <td>1              </td> <td>[ 40.83343887 -73.8605957 ]</td> <td>[ 40.75482559 -73.9465332 ]</td>\n",
       "        </tr>\n",
       "    </tbody>\n",
       "</table>"
      ],
      "text/plain": [
       "<IPython.core.display.HTML object>"
      ]
     },
     "metadata": {},
     "output_type": "display_data"
    }
   ],
   "source": [
    "def time_near(time1, time2, error=5):\n",
    "    '''\n",
    "    Returns a boolean (true or false) whether 2 times are within error time of each other\n",
    "    error time is a number representing the minutes in between the two times (default 5 minutes)\n",
    "    '''\n",
    "    return abs(time1-time2) <= dt.timedelta(minutes=error)\n",
    "\n",
    "# Do not worry exactly what this line below does. It essentially creates the same \n",
    "# function we had before (and of the same name) using the more general function\n",
    "near_11pm_jan_4 = lambda x: time_near(x, dt.datetime(2016,1,4,23))\n",
    "near_11_taxis = taxis.where('Pickup_dt', near_11pm_jan_4)\n",
    "near_11_taxis.show()"
   ]
  },
  {
   "cell_type": "markdown",
   "metadata": {},
   "source": [
    "Using this method, we can look at the time of a crime we believe Daredevil to have gone to and look at dropoff or pickup times for taxis around the same time. Below, we will create a list of tables that correspond to the first 5 rows of crimes/complaints. These tables will be all the taxis that have dropoffs within 10 minutes of the crime being reported."
   ]
  },
  {
   "cell_type": "code",
   "execution_count": 16,
   "metadata": {},
   "outputs": [
    {
     "data": {
      "text/html": [
       "<table border=\"1\" class=\"dataframe\">\n",
       "    <thead>\n",
       "        <tr>\n",
       "            <th>Pickup_dt</th> <th>Dropoff_dt</th> <th>Passenger_count</th> <th>Pickup_location</th> <th>Dropoff_location</th>\n",
       "        </tr>\n",
       "    </thead>\n",
       "    <tbody>\n",
       "        <tr>\n",
       "            <td>2016-02-02 01:40:39</td> <td>2016-02-02 01:53:35</td> <td>1              </td> <td>[ 40.68479156 -73.97782135]</td> <td>[ 40.66083908 -73.9831543 ]</td>\n",
       "        </tr>\n",
       "    </tbody>\n",
       "</table>"
      ],
      "text/plain": [
       "<IPython.core.display.HTML object>"
      ]
     },
     "metadata": {},
     "output_type": "display_data"
    }
   ],
   "source": [
    "table_list = []\n",
    "for i in range(5):\n",
    "    time = complaints.column('Complaint_dt')[i] #gets the ith datetime of the complaint\n",
    "    temp_function = lambda x: time_near(x, time, 10)\n",
    "    table_list.append(taxis.where('Dropoff_dt', temp_function))\n",
    "table_list[4].show()"
   ]
  },
  {
   "cell_type": "markdown",
   "metadata": {},
   "source": [
    "Now lets look at location data. As with time, we can create a function to let us get all of the rows of a table with a location that is close to some certain coordinate. \n",
    "\n",
    "Before we do, we write a function that converts (roughly) the distance in km of two coordinates to make our lives easier."
   ]
  },
  {
   "cell_type": "code",
   "execution_count": 17,
   "metadata": {},
   "outputs": [],
   "source": [
    "def dist_coord(loc1,loc2):\n",
    "    \"\"\"\n",
    "    returns distance in km between 2 coordinates\n",
    "    loc1 and loc2 should be a tuple of coordinates corresponding to the latitude and longitudes\n",
    "    of 2 locations\n",
    "    Not entirely accurate (assumes perfectly spherical earth) but works for our purposes\n",
    "    \"\"\"\n",
    "    R = 6373.0\n",
    "    lat1, lon1 = loc1\n",
    "    lat2, lon2 = loc2\n",
    "    lat1 = np.radians(lat1)\n",
    "    lon1 = np.radians(lon1)\n",
    "    lat2 = np.radians(lat2)\n",
    "    lon2 = np.radians(lon2)\n",
    "    dlon = lon2 - lon1\n",
    "    dlat = lat2 - lat1\n",
    "    a = (np.sin(dlat/2))**2 + np.cos(lat1) * np.cos(lat2) * (np.sin(dlon/2))**2\n",
    "    c = 2 * np.arctan2(np.sqrt(a), np.sqrt(1-a))\n",
    "    distance = R * c\n",
    "    return distance"
   ]
  },
  {
   "cell_type": "markdown",
   "metadata": {},
   "source": [
    "And now we write a general function (like we did for time) to be used in `.where` call of a table. That is, we will write a function that returns True if the coordinates are within x km of another set coordinate. We use the function to then generate a table of taxis that dropped off a passenger within 1 km of the first complaint location (40.638, -73.8985)"
   ]
  },
  {
   "cell_type": "code",
   "execution_count": 18,
   "metadata": {},
   "outputs": [
    {
     "data": {
      "text/html": [
       "<table border=\"1\" class=\"dataframe\">\n",
       "    <thead>\n",
       "        <tr>\n",
       "            <th>Pickup_dt</th> <th>Dropoff_dt</th> <th>Passenger_count</th> <th>Pickup_location</th> <th>Dropoff_location</th>\n",
       "        </tr>\n",
       "    </thead>\n",
       "    <tbody>\n",
       "        <tr>\n",
       "            <td>2016-01-04 11:32:46</td> <td>2016-01-04 11:33:03</td> <td>1              </td> <td>[ 40.63484955 -73.93488312]</td> <td>[ 40.63485718 -73.93489075]</td>\n",
       "        </tr>\n",
       "    </tbody>\n",
       "        <tr>\n",
       "            <td>2015-12-13 15:42:45</td> <td>2015-12-13 15:49:43</td> <td>1              </td> <td>[ 40.65153885 -73.95597839]</td> <td>[ 40.64172363 -73.9371109 ]</td>\n",
       "        </tr>\n",
       "    </tbody>\n",
       "        <tr>\n",
       "            <td>2016-01-30 16:43:17</td> <td>2016-01-30 16:59:45</td> <td>1              </td> <td>[ 40.67980576 -73.92873383]</td> <td>[ 40.64642715 -73.92745209]</td>\n",
       "        </tr>\n",
       "    </tbody>\n",
       "        <tr>\n",
       "            <td>2016-03-29 20:30:07</td> <td>2016-03-29 20:40:20</td> <td>1              </td> <td>[ 40.63330078 -73.94945526]</td> <td>[ 40.63592148 -73.93845367]</td>\n",
       "        </tr>\n",
       "    </tbody>\n",
       "        <tr>\n",
       "            <td>2015-12-04 18:46:34</td> <td>2015-12-04 19:07:52</td> <td>1              </td> <td>[ 40.6841011  -73.97599792]</td> <td>[ 40.64549637 -73.93251801]</td>\n",
       "        </tr>\n",
       "    </tbody>\n",
       "        <tr>\n",
       "            <td>2016-02-10 02:52:44</td> <td>2016-02-10 02:55:02</td> <td>1              </td> <td>[ 40.63214111 -73.94717407]</td> <td>[ 40.63244629 -73.93502045]</td>\n",
       "        </tr>\n",
       "    </tbody>\n",
       "        <tr>\n",
       "            <td>2016-02-28 21:19:52</td> <td>2016-02-28 21:31:19</td> <td>1              </td> <td>[ 40.63476562 -73.95101166]</td> <td>[ 40.64136505 -73.94203186]</td>\n",
       "        </tr>\n",
       "    </tbody>\n",
       "        <tr>\n",
       "            <td>2016-01-06 09:26:04</td> <td>2016-01-06 09:47:37</td> <td>2              </td> <td>[ 40.69321823 -73.96798706]</td> <td>[ 40.63546371 -73.94022369]</td>\n",
       "        </tr>\n",
       "    </tbody>\n",
       "        <tr>\n",
       "            <td>2015-12-15 03:16:12</td> <td>2015-12-15 03:23:31</td> <td>1              </td> <td>[ 40.63249207 -73.94744873]</td> <td>[ 40.63758469 -73.9230957 ]</td>\n",
       "        </tr>\n",
       "    </tbody>\n",
       "        <tr>\n",
       "            <td>2016-03-29 15:23:45</td> <td>2016-03-29 15:25:01</td> <td>1              </td> <td>[ 40.64242935 -73.94282532]</td> <td>[ 40.64245605 -73.94281006]</td>\n",
       "        </tr>\n",
       "    </tbody>\n",
       "        <tr>\n",
       "            <td>2016-02-28 15:28:35</td> <td>2016-02-28 16:17:55</td> <td>1              </td> <td>[ 40.6385231  -73.93961334]</td> <td>[ 40.63700867 -73.93711853]</td>\n",
       "        </tr>\n",
       "    </tbody>\n",
       "        <tr>\n",
       "            <td>2015-12-01 20:13:11</td> <td>2015-12-01 20:41:48</td> <td>2              </td> <td>[ 40.67145538 -73.95772552]</td> <td>[ 40.64227295 -73.93907928]</td>\n",
       "        </tr>\n",
       "    </tbody>\n",
       "        <tr>\n",
       "            <td>2016-03-15 04:23:08</td> <td>2016-03-15 04:33:47</td> <td>1              </td> <td>[ 40.68040848 -73.94943237]</td> <td>[ 40.64155579 -73.93869019]</td>\n",
       "        </tr>\n",
       "    </tbody>\n",
       "        <tr>\n",
       "            <td>2016-03-18 07:55:52</td> <td>2016-03-18 08:16:27</td> <td>1              </td> <td>[ 40.60087585 -73.94186401]</td> <td>[ 40.63479614 -73.93519592]</td>\n",
       "        </tr>\n",
       "    </tbody>\n",
       "        <tr>\n",
       "            <td>2016-01-27 11:40:20</td> <td>2016-01-27 11:59:12</td> <td>1              </td> <td>[ 40.64043427 -73.96615601]</td> <td>[ 40.63433838 -73.92858124]</td>\n",
       "        </tr>\n",
       "    </tbody>\n",
       "        <tr>\n",
       "            <td>2016-01-16 19:24:52</td> <td>2016-01-16 19:51:41</td> <td>1              </td> <td>[ 40.68815231 -73.96591187]</td> <td>[ 40.63405228 -73.94004822]</td>\n",
       "        </tr>\n",
       "    </tbody>\n",
       "        <tr>\n",
       "            <td>2016-02-01 21:41:59</td> <td>2016-02-01 22:08:34</td> <td>1              </td> <td>[ 40.72113037 -73.84407806]</td> <td>[ 40.63381577 -73.93910217]</td>\n",
       "        </tr>\n",
       "    </tbody>\n",
       "        <tr>\n",
       "            <td>2016-01-25 19:19:38</td> <td>2016-01-25 19:33:17</td> <td>1              </td> <td>[ 40.66674042 -73.93138123]</td> <td>[ 40.64409256 -73.93621063]</td>\n",
       "        </tr>\n",
       "    </tbody>\n",
       "        <tr>\n",
       "            <td>2016-03-08 21:24:31</td> <td>2016-03-08 21:38:07</td> <td>1              </td> <td>[ 40.67883682 -73.94963837]</td> <td>[ 40.64671707 -73.92783356]</td>\n",
       "        </tr>\n",
       "    </tbody>\n",
       "        <tr>\n",
       "            <td>2016-03-28 15:49:17</td> <td>2016-03-28 16:20:05</td> <td>1              </td> <td>[ 40.66834259 -73.98028564]</td> <td>[ 40.63336182 -73.92815399]</td>\n",
       "        </tr>\n",
       "    </tbody>\n",
       "        <tr>\n",
       "            <td>2016-02-03 00:13:00</td> <td>2016-02-03 01:07:23</td> <td>1              </td> <td>[ 40.76017342 -73.99981891]</td> <td>[ 40.64080182 -73.93017658]</td>\n",
       "        </tr>\n",
       "    </tbody>\n",
       "        <tr>\n",
       "            <td>2016-03-26 00:49:53</td> <td>2016-03-26 01:14:47</td> <td>1              </td> <td>[ 40.6920166  -73.99132538]</td> <td>[ 40.63359833 -73.9400177 ]</td>\n",
       "        </tr>\n",
       "    </tbody>\n",
       "        <tr>\n",
       "            <td>2016-03-30 23:53:00</td> <td>2016-03-31 00:18:31</td> <td>1              </td> <td>[ 40.69044113 -73.99204254]</td> <td>[ 40.64832306 -73.92782593]</td>\n",
       "        </tr>\n",
       "    </tbody>\n",
       "        <tr>\n",
       "            <td>2016-01-13 17:59:06</td> <td>2016-01-13 18:43:13</td> <td>1              </td> <td>[ 40.71359253 -73.95822906]</td> <td>[ 40.64325333 -73.93049622]</td>\n",
       "        </tr>\n",
       "    </tbody>\n",
       "        <tr>\n",
       "            <td>2015-12-13 20:55:42</td> <td>2015-12-13 20:56:14</td> <td>1              </td> <td>[ 40.64460754 -73.94316101]</td> <td>[ 40.64405823 -73.93520355]</td>\n",
       "        </tr>\n",
       "    </tbody>\n",
       "        <tr>\n",
       "            <td>2016-03-12 19:10:16</td> <td>2016-03-12 19:15:10</td> <td>2              </td> <td>[ 40.6318779  -73.94676971]</td> <td>[ 40.63491058 -73.93174744]</td>\n",
       "        </tr>\n",
       "    </tbody>\n",
       "        <tr>\n",
       "            <td>2016-03-23 00:09:23</td> <td>2016-03-23 00:15:28</td> <td>1              </td> <td>[ 40.65132141 -73.93915558]</td> <td>[ 40.63705063 -73.93483734]</td>\n",
       "        </tr>\n",
       "    </tbody>\n",
       "        <tr>\n",
       "            <td>2016-01-05 00:06:11</td> <td>2016-01-05 00:26:54</td> <td>1              </td> <td>[ 40.64306641 -73.94291687]</td> <td>[ 40.64218903 -73.94287872]</td>\n",
       "        </tr>\n",
       "    </tbody>\n",
       "        <tr>\n",
       "            <td>2016-02-02 14:16:26</td> <td>2016-02-02 14:18:52</td> <td>1              </td> <td>[ 40.6349411  -73.93471527]</td> <td>[ 40.63494873 -73.93478394]</td>\n",
       "        </tr>\n",
       "    </tbody>\n",
       "        <tr>\n",
       "            <td>2016-02-28 02:32:51</td> <td>2016-02-28 02:56:09</td> <td>1              </td> <td>[ 40.6871109  -73.97523499]</td> <td>[ 40.63808823 -73.94245911]</td>\n",
       "        </tr>\n",
       "    </tbody>\n",
       "        <tr>\n",
       "            <td>2016-01-15 21:09:21</td> <td>2016-01-15 21:13:23</td> <td>1              </td> <td>[ 40.63242722 -73.94760132]</td> <td>[ 40.63900375 -73.94308472]</td>\n",
       "        </tr>\n",
       "    </tbody>\n",
       "        <tr>\n",
       "            <td>2016-03-22 03:35:00</td> <td>2016-03-22 04:28:35</td> <td>1              </td> <td>[ 40.76005334 -74.00026565]</td> <td>[ 40.64290869 -73.93235795]</td>\n",
       "        </tr>\n",
       "    </tbody>\n",
       "        <tr>\n",
       "            <td>2015-12-21 18:54:12</td> <td>2015-12-22 00:00:00</td> <td>1              </td> <td>[ 40.6384964 -73.9425354]  </td> <td>[ 40.63853836 -73.94247437]</td>\n",
       "        </tr>\n",
       "    </tbody>\n",
       "</table>"
      ],
      "text/plain": [
       "<IPython.core.display.HTML object>"
      ]
     },
     "metadata": {},
     "output_type": "display_data"
    }
   ],
   "source": [
    "def dist_near(loc1, loc2, error=1):\n",
    "    \"\"\"\n",
    "    returns a boolean (True or False) of whether the coordinates (lat1,lon1) and (lat2,lon2) are\n",
    "    within error km (default 1 km) of each other\n",
    "    \"\"\"\n",
    "    return dist_coord(loc1, loc2) <= error\n",
    "\n",
    "complaint_loc = complaints.column('Location')[0]\n",
    "near_first_complaint_func = lambda x: dist_near(x, complaint_loc)\n",
    "near_first_complaint_table = taxis.where('Dropoff_location', near_first_complaint_func)\n",
    "near_first_complaint_table.show()"
   ]
  },
  {
   "cell_type": "markdown",
   "metadata": {},
   "source": [
    "Let's visualize this! We plot the location of the complaint in red, and the locations of the taxi dropoffs in green. In addition, we plot the pickup location for each of these taxis in blue so you can see where the taxis picked up passengers who were dropped near the location."
   ]
  },
  {
   "cell_type": "code",
   "execution_count": 19,
   "metadata": {
    "scrolled": false
   },
   "outputs": [
    {
     "data": {
      "text/html": [
       "<div style=\"width:100%;\"><div style=\"position:relative;width:100%;height:0;padding-bottom:60%;\"><iframe src=\"data:text/html;charset=utf-8;base64,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\" style=\"position:absolute;width:100%;height:100%;left:0;top:0;border:none !important;\" allowfullscreen webkitallowfullscreen mozallowfullscreen></iframe></div></div>"
      ],
      "text/plain": [
       "<folium.folium.Map at 0x7fb5fcced668>"
      ]
     },
     "execution_count": 19,
     "metadata": {},
     "output_type": "execute_result"
    }
   ],
   "source": [
    "distance_example_map = folium.Map(width=700,height=500,location=complaint_loc.tolist(), zoom_start=12)\n",
    "\n",
    "addMarkers(distance_example_map, near_first_complaint_table, 'Dropoff_location', color='green', popup_cols=[3,4])\n",
    "addMarkers(distance_example_map, near_first_complaint_table, 'Pickup_location', color='blue', popup_cols=[3,4])\n",
    "folium.Marker(complaint_loc, icon=folium.Icon(color='red'), popup='Complaint_location: '+str(complaint_loc)).add_to(distance_example_map)\n",
    "\n",
    "distance_example_map"
   ]
  },
  {
   "cell_type": "markdown",
   "metadata": {
    "collapsed": true
   },
   "source": [
    "Now let's try to find DareDevil! We will try to go through the complaints data and find the complaints we believe (or know) that Daredevil has gone to. Then using this, we will match the crime with a taxi that is near in time and dropoff location. Finally, we will look for common pickup locations and suspect that this is the origin location of Daredevil.\n",
    "\n",
    "For the sake of speed, we will require that the passenger count in taxis be 1 and use only January's data. We also will set the location to 1 km away and the dropoff time to be within 15 minutes of the complaint time. You are free to change any of these parameters as you see fit. In addition, if you are comfortable, try to experiment by including some of the columns we removed earlier in the pre-processing stage! \n",
    "\n",
    "*Note that some of the visualizations can be time-consuming, so we encourage you to try to find a faster way that does not need visualizations (hint: try to use the distance function on the pickup locations you get).*"
   ]
  },
  {
   "cell_type": "code",
   "execution_count": 21,
   "metadata": {},
   "outputs": [
    {
     "data": {
      "text/html": [
       "<table border=\"1\" class=\"dataframe\">\n",
       "    <thead>\n",
       "        <tr>\n",
       "            <th>Complaint_dt</th> <th>OFNS_DESC</th> <th>PD_DESC</th> <th>LAW_CAT_CD</th> <th>Location</th>\n",
       "        </tr>\n",
       "    </thead>\n",
       "    <tbody>\n",
       "        <tr>\n",
       "            <td>2016-01-24 03:55:00</td> <td>PETIT LARCENY                 </td> <td>LARCENY,PETIT FROM BUILDING,UN</td> <td>MISDEMEANOR</td> <td>[ 40.75288388 -73.98343469]</td>\n",
       "        </tr>\n",
       "    </tbody>\n",
       "        <tr>\n",
       "            <td>2016-01-11 06:05:00</td> <td>HARRASSMENT 2                 </td> <td>HARASSMENT,SUBD 1,CIVILIAN    </td> <td>VIOLATION  </td> <td>[ 40.6146244  -74.08471673]</td>\n",
       "        </tr>\n",
       "    </tbody>\n",
       "        <tr>\n",
       "            <td>2016-01-27 19:30:00</td> <td>FELONY ASSAULT                </td> <td>ASSAULT 2,1,UNCLASSIFIED      </td> <td>FELONY     </td> <td>[ 40.8291633  -73.93727189]</td>\n",
       "        </tr>\n",
       "    </tbody>\n",
       "        <tr>\n",
       "            <td>2016-01-17 23:09:00</td> <td>CRIMINAL MISCHIEF & RELATED OF</td> <td>TAMPERING 1,CRIMINAL          </td> <td>FELONY     </td> <td>[ 40.74978011 -73.98778087]</td>\n",
       "        </tr>\n",
       "    </tbody>\n",
       "        <tr>\n",
       "            <td>2016-01-12 18:19:00</td> <td>PETIT LARCENY                 </td> <td>LARCENY,PETIT FROM OPEN AREAS,</td> <td>MISDEMEANOR</td> <td>[ 40.69086637 -73.98584806]</td>\n",
       "        </tr>\n",
       "    </tbody>\n",
       "</table>\n",
       "<p>... (3211 rows omitted)</p"
      ],
      "text/plain": [
       "<IPython.core.display.HTML object>"
      ]
     },
     "metadata": {},
     "output_type": "display_data"
    },
    {
     "data": {
      "text/html": [
       "<div style=\"width:100%;\"><div style=\"position:relative;width:100%;height:0;padding-bottom:60%;\"><iframe src=\"data:text/html;charset=utf-8;base64,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\" style=\"position:absolute;width:100%;height:100%;left:0;top:0;border:none !important;\" allowfullscreen webkitallowfullscreen mozallowfullscreen></iframe></div></div>"
      ],
      "text/plain": [
       "<folium.folium.Map at 0x7fb5fc69d9b0>"
      ]
     },
     "execution_count": 21,
     "metadata": {},
     "output_type": "execute_result"
    }
   ],
   "source": [
    "distance_err = 1\n",
    "time_err = 15\n",
    "\n",
    "felonies = complaints.where(\"LAW_CAT_CD\", \"FELONY\")\n",
    "# We create a new table with only felonies\n",
    "felonies = complaints.where(\"Complaint_dt\", \n",
    "        are.between_or_equal_to(dt.datetime(2016,1,1), dt.datetime(2016,1,31)))\n",
    "felonies.show(5)\n",
    "\n",
    "# taxi_tables will be an array of tables corresponding to the table of taxis that\n",
    "# are suspected to be related to the associated felony\n",
    "taxi_tables = []\n",
    "for row_num in range(near_first_complaint_table.num_rows):\n",
    "    # This should all look familiar\n",
    "    complaint_loc = near_first_complaint_table.column('Pickup_location')[row_num]\n",
    "    complaint_desc = near_first_complaint_table.column('Dropoff_location')[row_num]\n",
    "    complaint_dt = near_first_complaint_table.column('Pickup_dt')[row_num]\n",
    "    \n",
    "    near_complaint_loc_func = lambda x: dist_near(x, complaint_loc, distance_err)\n",
    "    near_complaint_time_func = lambda x: time_near(x, complaint_dt, time_err)\n",
    "    \n",
    "    temp_table = taxis.where('Dropoff_location', near_complaint_loc_func)\n",
    "    temp_table = temp_table.where('Dropoff_dt', near_complaint_time_func)\n",
    "    \n",
    "    taxi_tables.append(temp_table)\n",
    "    \n",
    "\n",
    "# For visualization. Note that this can take awhile to run\n",
    "NY_map = folium.Map(width=700, height=500, location=[40.7128,-74.0059], zoom_start=10)\n",
    "\n",
    "for i in range(len(taxi_tables)):\n",
    "    table = taxi_tables[i]\n",
    "    if (table.num_rows>0):\n",
    "        complaint_loc = felonies.column('Location')[i]\n",
    "        complaint_desc = felonies.column('OFNS_DESC')[i]\n",
    "        complaint_dt = felonies.column('Complaint_dt')[i]\n",
    "        \n",
    "        felony_marker = folium.Marker(complaint_loc, icon=folium.Icon(color='red'), popup=complaint_desc)\n",
    "        felony_marker.add_to(NY_map)\n",
    "        addMarkers(NY_map, table, 'Dropoff_location', color='green', popup_cols=[3,4])\n",
    "        addMarkers(NY_map, table, 'Pickup_location', color='blue', popup_cols=[3,4])\n",
    "        \n",
    "NY_map"
   ]
  },
  {
   "cell_type": "markdown",
   "metadata": {},
   "source": [
    "Remember that in the visualization, red indicates the crime, green indicates the dropoff location, and blue indicates the pickup location. Do you see anywhere that seems to be the origin of many of the blue clusters? In particular you should find that there is a small cluster of blue near the coordinates (40.76, -74.00).\n",
    "\n",
    "However, how can we be sure that this did not occur by random coincidence? There could be a variety of factors that impact the data (i.e. population, time, tourist-destination, etc). We recommend trying to explore the data yourself to find out more! You might even find more than just the location of Daredevil."
   ]
  },
  {
   "cell_type": "markdown",
   "metadata": {},
   "source": [
    "---\n",
    "\n",
    "## Credits\n",
    "This module was created as part of the DSEP Modules team for the Spring 2018 offering of INFO 290."
   ]
  },
  {
   "cell_type": "markdown",
   "metadata": {},
   "source": [
    "---"
   ]
  }
 ],
 "metadata": {
  "anaconda-cloud": {},
  "kernelspec": {
   "display_name": "Python 3",
   "language": "python",
   "name": "python3"
  },
  "language_info": {
   "codemirror_mode": {
    "name": "ipython",
    "version": 3
   },
   "file_extension": ".py",
   "mimetype": "text/x-python",
   "name": "python",
   "nbconvert_exporter": "python",
   "pygments_lexer": "ipython3",
   "version": "3.6.3"
  }
 },
 "nbformat": 4,
 "nbformat_minor": 1
}
